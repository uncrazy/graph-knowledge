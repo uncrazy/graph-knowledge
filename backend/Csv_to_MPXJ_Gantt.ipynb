{
 "cells": [
  {
   "cell_type": "code",
   "execution_count": null,
   "outputs": [],
   "source": [
    "import pandas as pd\n",
    "import numpy as np\n",
    "import mpxj\n",
    "import jpype\n",
    "import datetime\n",
    "\n",
    "import plotly.express as px\n",
    "\n",
    "%matplotlib inline\n",
    "\n",
    "from IPython.core.interactiveshell import InteractiveShell\n",
    "InteractiveShell.ast_node_interactivity = 'all'\n",
    "\n",
    "pd.set_option('display.max_rows', 4000)\n",
    "pd.set_option('display.max_columns', 3000)\n",
    "pd.set_option('display.width', 1000)\n",
    "pd.options.display.max_seq_items = 2000\n",
    "\n",
    "PATH = '/Users/antonmorozov/'\n",
    "\n",
    "import os\n",
    "import sys\n",
    "\n",
    "print('Path of working directory  %s' % os.getcwd())\n",
    "print('Path of the executable binary %s' % sys.executable)\n",
    "sys.version"
   ],
   "metadata": {
    "collapsed": false,
    "pycharm": {
     "name": "#%%\n"
    }
   }
  },
  {
   "cell_type": "code",
   "execution_count": null,
   "outputs": [],
   "source": [
    "df = pd.read_csv(os.path.join(PATH, 'downloads', 'gannt.csv'))"
   ],
   "metadata": {
    "collapsed": false,
    "pycharm": {
     "name": "#%%\n"
    }
   }
  },
  {
   "cell_type": "code",
   "execution_count": null,
   "outputs": [],
   "source": [
    "df = pd.read_csv(os.path.join(PATH, 'downloads', 'S03_CGM|D15_time_exp.csv'))\n",
    "df = df[['Тип данных', 'Идентификатор', 'Сложность задачи (1-10)']]\n",
    "df['Сложность задачи (1-10)'].fillna(0, inplace=True)\n",
    "df['Start'] = df['Сложность задачи (1-10)'].cumsum().shift(1).fillna(0)\n",
    "df['Finish'] = df['Сложность задачи (1-10)'].cumsum()\n",
    "df['Start-Finish'] = df['Finish'] - df['Start']\n",
    "\n",
    "def color(row):\n",
    "    \"Функция для раскраски графа\"\n",
    "#     c_dict = {'Промежуточные':'#E64646', 'Действие':'#3475D0'}\n",
    "    c_dict = {'Промежуточные':'Red', 'Действие':'Blue'}\n",
    "    return c_dict[row['Тип данных']]\n",
    "\n",
    "df['Color'] = df.apply(color, axis=1)\n",
    "\n",
    "\n",
    "def convert(number,\n",
    "            year=datetime.datetime.today().strftime(\"%m/%d/%Y\").split('/')[2],\n",
    "            month=datetime.datetime.today().strftime(\"%m/%d/%Y\").split('/')[0],\n",
    "            day=datetime.datetime.today().strftime(\"%m/%d/%Y\").split('/')[1],\n",
    "            hour=datetime.datetime.today().strftime(\"%m/%d/%Y %H:%M:%S\").split(' ')[1].split(':')[0],\n",
    "            minute=datetime.datetime.today().strftime(\"%m/%d/%Y %H:%M:%S\").split(' ')[1].split(':')[1]\n",
    "            ):\n",
    "    \n",
    "    '''\n",
    "    Конвертирует number (float) – ЧИСЛО ЧАСОВ,  в полную дату с точностью до минут\n",
    "    Пользователь может указать год, месяц, день, иначе назначается сегодняшняя дата\n",
    "    \n",
    "    TODO: добавить учет конца месяца\n",
    "    '''\n",
    "    day_ini = day\n",
    "    to_day_hour = number/24  #  выводит float, где день - число перед запятой\n",
    "    if len(str(to_day_hour).split('.')[0] + day_ini) > 1:  #  учет если кол-во дней больше 10\n",
    "        day = str(int(to_day_hour)+int(day_ini))\n",
    "    else:\n",
    "        day = '0'+str(int(to_day_hour)+int(day_ini))\n",
    "     \n",
    "    hour_ini = hour\n",
    "    hour = str(int(round(float('.'+str(number/24).split('.')[1])*24, 2)) + int(hour_ini))\n",
    "    \n",
    "    if int(hour) >= 24:\n",
    "        day = str(int(day) + int(str(float(hour)/24).split('.')[0]))\n",
    "        hour = str(int(round(float('.'+str(float(hour)/24).split('.')[1])*24,0)))\n",
    "        if int(day) > 31:\n",
    "            print('more than 31 days!')\n",
    "\n",
    "    if len(hour) > 2:\n",
    "        hour = '0'+ hour\n",
    "        \n",
    "    minute_ini = minute\n",
    "    hour_to_min = str(round(float('.'+str(number/24).split('.')[1])*24, 5))\n",
    "    minute = str(int(round(float('.'+hour_to_min.split('.')[1])*60, 2))+int(minute_ini))\n",
    "    \n",
    "    return pd.to_datetime(month+'/'+day+'/'+year+' '+hour+':'+minute, format='%m/%d/%Y %H:%M')\n",
    "\n",
    "df['Start Date'] = df['Start'].to_frame().applymap(convert)\n",
    "df['Finish Date'] = df['Finish'].to_frame().applymap(convert)\n",
    "\n",
    "fig = px.timeline(df, x_start=\"Start Date\", x_end=\"Finish Date\", y=\"Идентификатор\",\n",
    "#                   color=\"Тип данных\",  # не работает\n",
    "#                   category_orders=dict(group=df['Идентификатор'].tolist()),\n",
    "                 )\n",
    "# fig.update_layout(yaxis_categoryorder = 'total ascending')\n",
    "fig.update_yaxes(autorange=\"reversed\")"
   ],
   "metadata": {
    "collapsed": false,
    "pycharm": {
     "name": "#%%\n"
    }
   }
  },
  {
   "cell_type": "code",
   "execution_count": 12,
   "id": "693c2d50",
   "metadata": {
    "ExecuteTime": {
     "end_time": "2022-05-16T11:14:24.453619Z",
     "start_time": "2022-05-16T11:14:24.446167Z"
    }
   },
   "outputs": [
    {
     "data": {
      "text/plain": [
       "20"
      ]
     },
     "execution_count": 12,
     "metadata": {},
     "output_type": "execute_result"
    }
   ],
   "source": [
    "may2017 = clnd('May 2017', period='M')\n",
    "may2017.count()"
   ]
  },
  {
   "cell_type": "code",
   "execution_count": null,
   "id": "3e984c05",
   "metadata": {},
   "outputs": [],
   "source": []
  }
 ],
 "metadata": {
  "kernelspec": {
   "display_name": "Python 3 (ipykernel)",
   "language": "python",
   "name": "python3"
  },
  "language_info": {
   "codemirror_mode": {
    "name": "ipython",
    "version": 3
   },
   "file_extension": ".py",
   "mimetype": "text/x-python",
   "name": "python",
   "nbconvert_exporter": "python",
   "pygments_lexer": "ipython3",
   "version": "3.9.7"
  }
 },
 "nbformat": 4,
 "nbformat_minor": 5
}